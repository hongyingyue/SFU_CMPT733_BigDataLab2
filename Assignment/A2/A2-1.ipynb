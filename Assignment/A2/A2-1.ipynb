{
 "cells": [
  {
   "cell_type": "markdown",
   "metadata": {},
   "source": [
    "# Assignment 2: Entity Resolution (Part 1)"
   ]
  },
  {
   "cell_type": "markdown",
   "metadata": {},
   "source": [
    "## Objective"
   ]
  },
  {
   "cell_type": "markdown",
   "metadata": {},
   "source": [
    "Data scientists often spend 80% of their time on [data preparation](https://www.infoworld.com/article/3228245/the-80-20-data-science-dilemma.html). If your career goal is to become a data scientist, you have to master data cleaning and data integration skills. In this assignment, you will learn how to solve the Entity Resolution (ER) problem, a very common problem in data cleaning and integration. After completing this assignment, you should be able to answer the following questions:\n",
    "\n",
    "1. What is ER?\n",
    "2. What are the applications of ER in data integration and cleaning? \n",
    "3. How to avoid $n^2$ comparisons? \n",
    "4. How to compute Jaccard Similarity?\n",
    "5. How to evaluate an ER result?\n",
    "\n",
    "**Requirements:**\n",
    "\n",
    "1. Please use [pandas.DataFrame](http://pandas.pydata.org/pandas-docs/stable/generated/pandas.DataFrame.html) rather than spark.DataFrame to manipulate data.\n",
    "\n",
    "2. Please follow python code style (https://www.python.org/dev/peps/pep-0008/). If TA finds your code hard to read, you will lose points. This requirement will stay for the whole semester.\n",
    "\n",
    "The data for Assignment 2 (Part 1 and Part 2) can be downloaded from [A2-data.zip](A2-data.zip)."
   ]
  },
  {
   "cell_type": "markdown",
   "metadata": {},
   "source": [
    "## Overview"
   ]
  },
  {
   "cell_type": "markdown",
   "metadata": {},
   "source": [
    "ER is defined as finding different records that refer to the same real-world entity, e.g., iPhone 4-th generation vs. iPhone four. It is central to data integration and cleaning. In this assignment, you will learn how to apply ER in a data integration setting. But the program that you are going to write can be easily extended to a data-cleaning setting, being used to detect _duplication values_.   \n",
    "\n",
    "Imagine that you want to help your company's customers to buy products at a cheaper price. In order to do so, you first write a [web scraper](https://nbviewer.jupyter.org/github/sfu-db/bigdata-cmpt733/blob/master/Assignments/A1/A1-1.ipynb) to crawl product data from Amazon.com and Google Shopping, respectively, and then integrate the data together. Since the same product may have different representations in the two websites, you are facing an ER problem. \n",
    "\n",
    "Existing ER techniques can be broadly divided into two categories: similarity-based (Part 1) and learning-based (Part 2). \n"
   ]
  },
  {
   "cell_type": "markdown",
   "metadata": {},
   "source": [
    "## Similarity Join"
   ]
  },
  {
   "cell_type": "markdown",
   "metadata": {},
   "source": [
    "Unlike a learning-based technique, a similarity-based technique (a.k.a similarity join) does not need any label data. It first chooses a similarity function and a threshold, and then returns the record pairs whose similarity values are above the threshold. These returned record pairs are thought of as matching pairs, i.e., referring to the same real-world entity. \n",
    "\n",
    "Depending on particular applications, you may need to choose different similarity functions. In this assignment, we will use Jaccard similarity, i.e., $\\textsf{Jaccard}(r, s) = \\big|\\frac{r \\cap s}{r \\cup s}\\big|$. Here is the formal definition of this problem.\n",
    "\n",
    "> **Jaccard-Similarity Join**: Given two DataFrames, R and S, and a threshold $\\theta \\in (0, 1]$, the jaccard-similarity join problem aims to find all record pairs $(r, s) \\in R \\times S$ such that $\\textsf{Jaccard}(r, s) \\geq \\theta$  "
   ]
  },
  {
   "cell_type": "markdown",
   "metadata": {},
   "source": [
    "To implement similarity join, you need to address the following challenges:\n",
    "\n",
    "1. Jaccard is used to quantify the similarity between two sets instead of two records. You need to convert each record to a set.\n",
    "\n",
    "2. A naive implementation of similarity join is to compute Jaccard for all $|R \\times S|$ possible pairs. Imagine R and S have one million records. This requires doing 10^12 pair comparisons, which is extremely expensive. Thus, you need to know how to avoid n^2 comparisons. \n",
    "\n",
    "3. The output of ER is a set of matching pairs, where each pair is considered as referring to the same real-world entity. You need to know how to evaluate the quality of an ER result.\n",
    "\n",
    "Next, you will be guided to complete four tasks. After finishing these tasks, I suggest you going over the above challenges again, and understand how they are addressed.\n",
    "\n",
    "Read the code first, and then implement the remaining four functions: `preprocess_df`, `filtering`, `verification`, and `evaluate` by doing Tasks A-D, respectively.\n",
    "\n",
    "``` python\n",
    "# similarity_join.py\n",
    "import re\n",
    "import pandas as pd\n",
    "\n",
    "class SimilarityJoin:\n",
    "    def __init__(self, data_file1, data_file2):\n",
    "        self.df1 = pd.read_csv(data_file1)\n",
    "        self.df2 = pd.read_csv(data_file2)\n",
    "          \n",
    "    def preprocess_df(self, df, cols): \n",
    "        \"\"\"\n",
    "            Write your code!\n",
    "        \"\"\" \n",
    "    \n",
    "    def filtering(self, df1, df2):\n",
    "        \"\"\"\n",
    "            Write your code!\n",
    "        \"\"\"\n",
    "      \n",
    "    def verification(self, cand_df, threshold):\n",
    "        \"\"\"\n",
    "            Write your code!\n",
    "        \"\"\"\n",
    "        \n",
    "    def evaluate(self, result, ground_truth):\n",
    "        \"\"\"\n",
    "            Write your code!\n",
    "        \"\"\"\n",
    "        \n",
    "    def jaccard_join(self, cols1, cols2, threshold):\n",
    "        new_df1 = self.preprocess_df(self.df1, cols1)\n",
    "        new_df2 = self.preprocess_df(self.df2, cols2)\n",
    "        print (\"Before filtering: %d pairs in total\" %(self.df1.shape[0] *self.df2.shape[0])) \n",
    "        \n",
    "        cand_df = self.filtering(new_df1, new_df2)\n",
    "        print (\"After Filtering: %d pairs left\" %(cand_df.shape[0]))\n",
    "        \n",
    "        result_df = self.verification(cand_df, threshold)\n",
    "        print (\"After Verification: %d similar pairs\" %(result_df.shape[0]))\n",
    "        \n",
    "        return result_df\n",
    "       \n",
    "        \n",
    "\n",
    "if __name__ == \"__main__\":\n",
    "    er = SimilarityJoin(\"Amazon_sample.csv\", \"Google_sample.csv\")\n",
    "    amazon_cols = [\"title\", \"manufacturer\"]\n",
    "    google_cols = [\"name\", \"manufacturer\"]\n",
    "    result_df = er.jaccard_join(amazon_cols, google_cols, 0.5)\n",
    "\n",
    "    result = result_df[['id1', 'id2']].values.tolist()\n",
    "    ground_truth = pd.read_csv(\"Amazon_Google_perfectMapping_sample.csv\").values.tolist()\n",
    "    print (\"(precision, recall, fmeasure) = \", er.evaluate(result, ground_truth))\n",
    "```"
   ]
  },
  {
   "cell_type": "markdown",
   "metadata": {},
   "source": [
    "\n",
    "The program will output the following when running on the sample data:\n",
    "\n",
    "\n",
    "> Before filtering: 256 pairs in total\n",
    "\n",
    "> After Filtering: 84 pairs left\n",
    "\n",
    "> After Verification: 6 similar pairs\n",
    "\n",
    "> (precision, recall, fmeasure) =  (1.0, 0.375, 0.5454545454545454)\n"
   ]
  },
  {
   "cell_type": "markdown",
   "metadata": {},
   "source": [
    "### Task A. Data Preprocessing (Record --> Token Set)"
   ]
  },
  {
   "cell_type": "markdown",
   "metadata": {},
   "source": [
    "Since Jaccard needs to take two sets as input, your first job is to preprocess DataFrames by transforming each record into a set of tokens. Please implement the following function.   \n",
    "\n",
    "```python\n",
    "def preprocess_df(self, df, cols): \n",
    "    \"\"\" \n",
    "        Input: $df represents a DataFrame\n",
    "               $cols represents the list of columns (in $df) that will be concatenated and be tokenized\n",
    "\n",
    "        Output: Return a new DataFrame that adds the \"joinKey\" column to the input $df\n",
    "\n",
    "        Comments: The \"joinKey\" column is a list of tokens, which is generated as follows:\n",
    "                 (1) concatenate the $cols in $df; \n",
    "                 (2) apply the tokenizer to the concatenated string\n",
    "        Here is how the tokenizer should work:\n",
    "                 (1) Use \"re.split(r'\\W+', string)\" to split a string into a set of tokens\n",
    "                 (2) Convert each token to its lower-case\n",
    "    \"\"\" \n",
    "```"
   ]
  },
  {
   "cell_type": "code",
   "execution_count": 2,
   "metadata": {},
   "outputs": [],
   "source": [
    "import pandas as pd\n",
    "import re"
   ]
  },
  {
   "cell_type": "code",
   "execution_count": 25,
   "metadata": {},
   "outputs": [],
   "source": [
    "\n",
    "def preprocess_df(df, cols): \n",
    "    new_df = df.copy()\n",
    "    joinString = ''\n",
    "    for col in cols:\n",
    "        joinString += new_df[col].apply(lambda x: x if pd.notna(x) else '') + ' '\n",
    "\n",
    "    # joinKey = re.split(r'\\W+', joinString)\n",
    "    # joinString = [joinKey.lower() for key in joinKey if key]\n",
    "    new_df['joinKey'] = joinString.apply(lambda x: re.split(r'\\W+', x.lower())).apply(lambda lst: [i for i in lst if i])\n",
    "    return new_df\n",
    "\n",
    "\n",
    "\n",
    "amazon_cols = [\"title\", \"manufacturer\"]\n",
    "google_cols = [\"name\", \"manufacturer\"]\n",
    "\n",
    "# preprocess_df(df1, amazon_cols).to_csv('test1.csv')\n",
    "# preprocess_df(df2, google_cols).to_csv('test2.csv')\n",
    "\n",
    "\n"
   ]
  },
  {
   "cell_type": "markdown",
   "metadata": {},
   "source": [
    "For the purpose of testing, you can compare your outputs with new_df1 and new_df2 that can be found from the `Amazon-Google-Sample` folder."
   ]
  },
  {
   "cell_type": "markdown",
   "metadata": {},
   "source": [
    "### Task B. Filtering Obviously Non-matching Pairs"
   ]
  },
  {
   "cell_type": "markdown",
   "metadata": {},
   "source": [
    "To avoid $n^2$ pair comparisons, ER algorithms often follow a filtering-and-verification framework. The basic idea is to first filter obviously non-matching pairs and then only verify the remaining pairs.  \n",
    "\n",
    "In Task B, your job is to implement the <font color=\"blue\">filtering</font> function. This function will filter all the record pairs whose joinKeys do not share any token. This is because based on the definition of Jaccard, we can deduce that **if two sets do not share any element (i.e., $r\\cap s = \\phi$), their Jaccard similarity values must be zero**. Thus, we can safely remove them. "
   ]
  },
  {
   "cell_type": "markdown",
   "metadata": {},
   "source": [
    "```python\n",
    "def filtering(self, df1, df2):\n",
    "    \"\"\" \n",
    "        Input: $df1 and $df2 are two input DataFrames, where each of them \n",
    "               has a 'joinKey' column added by the preprocess_df function\n",
    "\n",
    "        Output: Return a new DataFrame $cand_df with four columns: 'id1', 'joinKey1', 'id2', 'joinKey2',\n",
    "                where 'id1' and 'joinKey1' are from $df1, and 'id2' and 'joinKey2'are from $df2.\n",
    "                Intuitively, $cand_df is the joined result between $df1 and $df2 on the condition that \n",
    "                their joinKeys share at least one token. \n",
    "\n",
    "        Comments: Since the goal of the \"filtering\" function is to avoid n^2 pair comparisons, \n",
    "                  you are NOT allowed to compute a cartesian join between $df1 and $df2 in the function. \n",
    "                  Please come up with a more efficient algorithm (see hints in Lecture 2). \n",
    "    \"\"\"\n",
    "```"
   ]
  },
  {
   "cell_type": "code",
   "execution_count": 11,
   "metadata": {},
   "outputs": [
    {
     "data": {
      "text/html": [
       "<div>\n",
       "<style scoped>\n",
       "    .dataframe tbody tr th:only-of-type {\n",
       "        vertical-align: middle;\n",
       "    }\n",
       "\n",
       "    .dataframe tbody tr th {\n",
       "        vertical-align: top;\n",
       "    }\n",
       "\n",
       "    .dataframe thead th {\n",
       "        text-align: right;\n",
       "    }\n",
       "</style>\n",
       "<table border=\"1\" class=\"dataframe\">\n",
       "  <thead>\n",
       "    <tr style=\"text-align: right;\">\n",
       "      <th></th>\n",
       "      <th>id</th>\n",
       "      <th>name</th>\n",
       "      <th>description</th>\n",
       "      <th>manufacturer</th>\n",
       "      <th>price</th>\n",
       "      <th>joinKey</th>\n",
       "    </tr>\n",
       "  </thead>\n",
       "  <tbody>\n",
       "    <tr>\n",
       "      <th>0</th>\n",
       "      <td>http://www.google.com/base/feeds/snippets/1102...</td>\n",
       "      <td>punch software 20100 punch! 5 in 1 home design</td>\n",
       "      <td>total interior and exterior home design with r...</td>\n",
       "      <td>punch software</td>\n",
       "      <td>35.99</td>\n",
       "      <td>[punch, software, 20100, punch, 5, in, 1, home...</td>\n",
       "    </tr>\n",
       "    <tr>\n",
       "      <th>1</th>\n",
       "      <td>http://www.google.com/base/feeds/snippets/7249...</td>\n",
       "      <td>onone software ice-10770 intellihance pro 4.1 ...</td>\n",
       "      <td>dynamic image enhancement and color correction...</td>\n",
       "      <td>onone software</td>\n",
       "      <td>158.99</td>\n",
       "      <td>[onone, software, ice, 10770, intellihance, pr...</td>\n",
       "    </tr>\n",
       "    <tr>\n",
       "      <th>2</th>\n",
       "      <td>http://www.google.com/base/feeds/snippets/1227...</td>\n",
       "      <td>adobe cs3 web standard</td>\n",
       "      <td>system requirements powerpc g4 or g5 or intel ...</td>\n",
       "      <td>NaN</td>\n",
       "      <td>1035.99</td>\n",
       "      <td>[adobe, cs3, web, standard]</td>\n",
       "    </tr>\n",
       "    <tr>\n",
       "      <th>3</th>\n",
       "      <td>http://www.google.com/base/feeds/snippets/1835...</td>\n",
       "      <td>red mile entertainment 124 - aircraft power pa...</td>\n",
       "      <td>red mile entertainment 124 : with firepower fo...</td>\n",
       "      <td>NaN</td>\n",
       "      <td>27.97</td>\n",
       "      <td>[red, mile, entertainment, 124, aircraft, powe...</td>\n",
       "    </tr>\n",
       "    <tr>\n",
       "      <th>4</th>\n",
       "      <td>http://www.google.com/base/feeds/snippets/3409...</td>\n",
       "      <td>sonicwall gms 1000n-incremental lic upg</td>\n",
       "      <td>today enterprises and service providers face i...</td>\n",
       "      <td>NaN</td>\n",
       "      <td>62920.89</td>\n",
       "      <td>[sonicwall, gms, 1000n, incremental, lic, upg]</td>\n",
       "    </tr>\n",
       "  </tbody>\n",
       "</table>\n",
       "</div>"
      ],
      "text/plain": [
       "                                                  id  \\\n",
       "0  http://www.google.com/base/feeds/snippets/1102...   \n",
       "1  http://www.google.com/base/feeds/snippets/7249...   \n",
       "2  http://www.google.com/base/feeds/snippets/1227...   \n",
       "3  http://www.google.com/base/feeds/snippets/1835...   \n",
       "4  http://www.google.com/base/feeds/snippets/3409...   \n",
       "\n",
       "                                                name  \\\n",
       "0     punch software 20100 punch! 5 in 1 home design   \n",
       "1  onone software ice-10770 intellihance pro 4.1 ...   \n",
       "2                             adobe cs3 web standard   \n",
       "3  red mile entertainment 124 - aircraft power pa...   \n",
       "4            sonicwall gms 1000n-incremental lic upg   \n",
       "\n",
       "                                         description    manufacturer  \\\n",
       "0  total interior and exterior home design with r...  punch software   \n",
       "1  dynamic image enhancement and color correction...  onone software   \n",
       "2  system requirements powerpc g4 or g5 or intel ...             NaN   \n",
       "3  red mile entertainment 124 : with firepower fo...             NaN   \n",
       "4  today enterprises and service providers face i...             NaN   \n",
       "\n",
       "      price                                            joinKey  \n",
       "0     35.99  [punch, software, 20100, punch, 5, in, 1, home...  \n",
       "1    158.99  [onone, software, ice, 10770, intellihance, pr...  \n",
       "2   1035.99                        [adobe, cs3, web, standard]  \n",
       "3     27.97  [red, mile, entertainment, 124, aircraft, powe...  \n",
       "4  62920.89     [sonicwall, gms, 1000n, incremental, lic, upg]  "
      ]
     },
     "execution_count": 11,
     "metadata": {},
     "output_type": "execute_result"
    }
   ],
   "source": [
    "df2.head()"
   ]
  },
  {
   "cell_type": "code",
   "execution_count": 36,
   "metadata": {},
   "outputs": [
    {
     "name": "stdout",
     "output_type": "stream",
     "text": [
      "          id_1                                          joinKey_1  \\\n",
      "0   b0002mg5uk         [iview, mediapro, 2, 5, global, marketing]   \n",
      "1   b000v7vz1u  [onone, essentials, for, adobe, photoshop, ele...   \n",
      "2   b0002mg5uk         [iview, mediapro, 2, 5, global, marketing]   \n",
      "3   b000v7vz1u  [onone, essentials, for, adobe, photoshop, ele...   \n",
      "4   b00002s6sc   [punch, 5, in, 1, home, design, punch, software]   \n",
      "..         ...                                                ...   \n",
      "79  b000ndibge  [adobe, creative, suite, cs3, web, standard, m...   \n",
      "80  b000in8n30                       [hijack2, navarre, software]   \n",
      "81  b00013wh0w  [handmark, oxford, american, desk, dictionary,...   \n",
      "82  b000gaqlxe  [aquazone, bass, edition, smith, micro, software]   \n",
      "83  b00006hvvo  [upg, sgms, 1000, incremental, node, sonic, sy...   \n",
      "\n",
      "                                                 id_2  \\\n",
      "0   http://www.google.com/base/feeds/snippets/1267...   \n",
      "1   http://www.google.com/base/feeds/snippets/1267...   \n",
      "2   http://www.google.com/base/feeds/snippets/1761...   \n",
      "3   http://www.google.com/base/feeds/snippets/1761...   \n",
      "4   http://www.google.com/base/feeds/snippets/1761...   \n",
      "..                                                ...   \n",
      "79  http://www.google.com/base/feeds/snippets/4377...   \n",
      "80  http://www.google.com/base/feeds/snippets/4377...   \n",
      "81  http://www.google.com/base/feeds/snippets/4377...   \n",
      "82  http://www.google.com/base/feeds/snippets/1479...   \n",
      "83  http://www.google.com/base/feeds/snippets/3409...   \n",
      "\n",
      "                                            joinKey_2  \n",
      "0          [iview, mediapro, 2, 6, media, management]  \n",
      "1          [iview, mediapro, 2, 6, media, management]  \n",
      "2   [onone, software, essentials, for, adobe, phot...  \n",
      "3   [onone, software, essentials, for, adobe, phot...  \n",
      "4   [onone, software, essentials, for, adobe, phot...  \n",
      "..                                                ...  \n",
      "79    [hijack2, identity, and, data, security, suite]  \n",
      "80    [hijack2, identity, and, data, security, suite]  \n",
      "81    [hijack2, identity, and, data, security, suite]  \n",
      "82                  [allume, aquazone, bass, edition]  \n",
      "83     [sonicwall, gms, 1000n, incremental, lic, upg]  \n",
      "\n",
      "[84 rows x 4 columns]\n"
     ]
    },
    {
     "data": {
      "text/plain": [
       "\"\\n#sub_df on id_1, id_2\\ndf_selected = df_merged\\n#\\n\\n\\n\\n\\n#join\\n\\n#\\n\\ncand_df = pd.merge(df1, df_selected, on='id_1')\\n\\ncand_df = pd.merge(df2, cand_df, on='id_2')\\n\\ncand_df = cand_df[['id_1', 'joinKey_1', 'id_2', 'joinKey_2']]\\n\""
      ]
     },
     "execution_count": 36,
     "metadata": {},
     "output_type": "execute_result"
    }
   ],
   "source": [
    "df1 = pd.read_csv(\"Amazon_sample.csv\")\n",
    "df2 = pd.read_csv(\"Google_sample.csv\")\n",
    "df1 = preprocess_df(df1, amazon_cols)\n",
    "df2 = preprocess_df(df2, google_cols)\n",
    "\n",
    "df1 = df1[['id', 'joinKey']].rename(columns={'id': 'id_1'})\n",
    "df2 = df2[['id', 'joinKey']].rename(columns={'id': 'id_2'})\n",
    "df1_n = df1.explode('joinKey')\n",
    "df2_n = df2.explode('joinKey')\n",
    "\n",
    "df_m = df1_n.merge(df2_n, on='joinKey')\n",
    "df_keep_ids = df_m.drop_duplicates(subset=['id_1', 'id_2'])[['id_1', 'id_2']]\n",
    "\n",
    "cand_df = df_keep_ids.merge(df1, on='id_1').rename(columns={'joinKey': 'joinKey_1'})\n",
    "cand_df = cand_df.merge(df2, on='id_2').rename(columns={'joinKey': 'joinKey_2'})\n",
    "cand_df = cand_df[['id_1', 'joinKey_1', 'id_2', 'joinKey_2']]\n",
    "print(cand_df)\n",
    "\n",
    "'''\n",
    "#sub_df on id_1, id_2\n",
    "df_selected = df_merged\n",
    "#\n",
    "\n",
    "\n",
    "\n",
    "\n",
    "#join\n",
    "\n",
    "#\n",
    "\n",
    "cand_df = pd.merge(df1, df_selected, on='id_1')\n",
    "\n",
    "cand_df = pd.merge(df2, cand_df, on='id_2')\n",
    "\n",
    "cand_df = cand_df[['id_1', 'joinKey_1', 'id_2', 'joinKey_2']]\n",
    "'''"
   ]
  },
  {
   "cell_type": "code",
   "execution_count": 33,
   "metadata": {},
   "outputs": [
    {
     "data": {
      "text/html": [
       "<div>\n",
       "<style scoped>\n",
       "    .dataframe tbody tr th:only-of-type {\n",
       "        vertical-align: middle;\n",
       "    }\n",
       "\n",
       "    .dataframe tbody tr th {\n",
       "        vertical-align: top;\n",
       "    }\n",
       "\n",
       "    .dataframe thead th {\n",
       "        text-align: right;\n",
       "    }\n",
       "</style>\n",
       "<table border=\"1\" class=\"dataframe\">\n",
       "  <thead>\n",
       "    <tr style=\"text-align: right;\">\n",
       "      <th></th>\n",
       "      <th>id_1</th>\n",
       "      <th>joinKey</th>\n",
       "    </tr>\n",
       "  </thead>\n",
       "  <tbody>\n",
       "    <tr>\n",
       "      <th>0</th>\n",
       "      <td>b0002mg5uk</td>\n",
       "      <td>[iview, mediapro, 2, 5, global, marketing]</td>\n",
       "    </tr>\n",
       "    <tr>\n",
       "      <th>1</th>\n",
       "      <td>b0002jtvng</td>\n",
       "      <td>[bias, deck, le, 3, 5, macintosh, cd, bias]</td>\n",
       "    </tr>\n",
       "    <tr>\n",
       "      <th>2</th>\n",
       "      <td>b0007lw22g</td>\n",
       "      <td>[apple, ilife, 06, mac, dvd, older, version, a...</td>\n",
       "    </tr>\n",
       "    <tr>\n",
       "      <th>3</th>\n",
       "      <td>b00007kh02</td>\n",
       "      <td>[extensis, intellihance, pro, 4, x, win, mac, ...</td>\n",
       "    </tr>\n",
       "    <tr>\n",
       "      <th>4</th>\n",
       "      <td>b000saufpw</td>\n",
       "      <td>[dk, amazing, animals, 1, 1, global, software,...</td>\n",
       "    </tr>\n",
       "  </tbody>\n",
       "</table>\n",
       "</div>"
      ],
      "text/plain": [
       "         id_1                                            joinKey\n",
       "0  b0002mg5uk         [iview, mediapro, 2, 5, global, marketing]\n",
       "1  b0002jtvng        [bias, deck, le, 3, 5, macintosh, cd, bias]\n",
       "2  b0007lw22g  [apple, ilife, 06, mac, dvd, older, version, a...\n",
       "3  b00007kh02  [extensis, intellihance, pro, 4, x, win, mac, ...\n",
       "4  b000saufpw  [dk, amazing, animals, 1, 1, global, software,..."
      ]
     },
     "execution_count": 33,
     "metadata": {},
     "output_type": "execute_result"
    }
   ],
   "source": [
    "df1.head()"
   ]
  },
  {
   "cell_type": "code",
   "execution_count": 54,
   "metadata": {},
   "outputs": [],
   "source": [
    "def filtering(df1, df2):\n",
    "    id1 = df1['id']\n",
    "    joinKey1 = df1['joinKey']\n",
    "    len1 = len(id1)\n",
    "    id2 = df2['id']\n",
    "    joinKey2 = df2['joinKey']\n",
    "    len2 = len(id2)\n",
    "\n",
    "    column_names = ['id1', 'joinKey1', 'id2', 'joinKey2']\n",
    "    df = pd.DataFrame(columns = column_names)\n",
    "\n",
    "    for i in range(len1):\n",
    "        for j in range(len2):\n",
    "            if set(joinKey1[i]).intersection(set(joinKey2[j])):\n",
    "                df = df.append({'id1':id1[i], 'joinKey1':joinKey1[i], 'id2':id2[j], 'joinKey2':joinKey2[j]}, ignore_index=True)\n",
    "\n",
    "    return df\n",
    "\n",
    "tdf1 = preprocess_df(df1, amazon_cols)\n",
    "tdf2 = preprocess_df(df2, google_cols)\n",
    "filtering(tdf1, tdf2).to_csv('cand_df.csv', index=False)"
   ]
  },
  {
   "cell_type": "markdown",
   "metadata": {},
   "source": [
    "For the purpose of testing, you can compare your output with cand_df that can be found from the `Amazon-Google-Sample` folder."
   ]
  },
  {
   "cell_type": "markdown",
   "metadata": {},
   "source": [
    "### Task C. Computing Jaccard Similarity for Survived Pairs"
   ]
  },
  {
   "cell_type": "markdown",
   "metadata": {},
   "source": [
    "In the second phase of the filtering-and-verification framework, we will compute the Jaccard similarity for each survived pair and return those pairs whose jaccard similarity values are no smaller than the specified threshold.\n",
    "\n",
    "In Task C, your job is to implement the <font color=\"blue\">verification</font> function. This task looks simple, but there are a few small \"traps\". \n",
    "\n",
    "\n",
    "```python\n",
    "def verification(self, cand_df, threshold):\n",
    "        \"\"\" \n",
    "            Input: $cand_df is the output DataFrame from the 'filtering' function. \n",
    "                   $threshold is a float value between (0, 1] \n",
    "\n",
    "            Output: Return a new DataFrame $result_df that represents the ER result. \n",
    "                    It has five columns: id1, joinKey1, id2, joinKey2, jaccard \n",
    "\n",
    "            Comments: There are two differences between $cand_df and $result_df\n",
    "                      (1) $result_df adds a new column, called jaccard, which stores the jaccard similarity \n",
    "                          between $joinKey1 and $joinKey2\n",
    "                      (2) $result_df removes the rows whose jaccard similarity is smaller than $threshold \n",
    "        \"\"\"\n",
    "```"
   ]
  },
  {
   "cell_type": "code",
   "execution_count": 73,
   "metadata": {},
   "outputs": [
    {
     "data": {
      "text/html": [
       "<div>\n",
       "<style scoped>\n",
       "    .dataframe tbody tr th:only-of-type {\n",
       "        vertical-align: middle;\n",
       "    }\n",
       "\n",
       "    .dataframe tbody tr th {\n",
       "        vertical-align: top;\n",
       "    }\n",
       "\n",
       "    .dataframe thead th {\n",
       "        text-align: right;\n",
       "    }\n",
       "</style>\n",
       "<table border=\"1\" class=\"dataframe\">\n",
       "  <thead>\n",
       "    <tr style=\"text-align: right;\">\n",
       "      <th></th>\n",
       "      <th>id1</th>\n",
       "      <th>joinKey1</th>\n",
       "      <th>id2</th>\n",
       "      <th>joinKey2</th>\n",
       "    </tr>\n",
       "  </thead>\n",
       "  <tbody>\n",
       "    <tr>\n",
       "      <th>0</th>\n",
       "      <td>b0002mg5uk</td>\n",
       "      <td>[iview, mediapro, 2, 5, global, marketing]</td>\n",
       "      <td>http://www.google.com/base/feeds/snippets/1102...</td>\n",
       "      <td>[punch, software, 20100, punch, 5, in, 1, home...</td>\n",
       "    </tr>\n",
       "    <tr>\n",
       "      <th>1</th>\n",
       "      <td>b0002mg5uk</td>\n",
       "      <td>[iview, mediapro, 2, 5, global, marketing]</td>\n",
       "      <td>http://www.google.com/base/feeds/snippets/5572...</td>\n",
       "      <td>[bias, deck, 3, 5, le, digital, audio, recordi...</td>\n",
       "    </tr>\n",
       "  </tbody>\n",
       "</table>\n",
       "</div>"
      ],
      "text/plain": [
       "          id1                                    joinKey1  \\\n",
       "0  b0002mg5uk  [iview, mediapro, 2, 5, global, marketing]   \n",
       "1  b0002mg5uk  [iview, mediapro, 2, 5, global, marketing]   \n",
       "\n",
       "                                                 id2  \\\n",
       "0  http://www.google.com/base/feeds/snippets/1102...   \n",
       "1  http://www.google.com/base/feeds/snippets/5572...   \n",
       "\n",
       "                                            joinKey2  \n",
       "0  [punch, software, 20100, punch, 5, in, 1, home...  \n",
       "1  [bias, deck, 3, 5, le, digital, audio, recordi...  "
      ]
     },
     "execution_count": 73,
     "metadata": {},
     "output_type": "execute_result"
    }
   ],
   "source": [
    "cand_df = filtering(tdf1, tdf2)\n",
    "cand_df.loc[0:1]"
   ]
  },
  {
   "cell_type": "code",
   "execution_count": 78,
   "metadata": {},
   "outputs": [],
   "source": [
    "def verification(cand_df, threshold):\n",
    "    new_df = cand_df.copy()\n",
    "    new_df['jaccard'] = new_df.apply(lambda x: len(set(x['joinKey1']) & set(x['joinKey2']))/len(set(x['joinKey1']) | set(x['joinKey2'])), axis=1)\n",
    "    return new_df[new_df.jaccard>=threshold]\n",
    "\n",
    "result_df = verification(cand_df, 0.5)\n",
    "result_df.to_csv('result_df.csv', index=False)"
   ]
  },
  {
   "cell_type": "markdown",
   "metadata": {},
   "source": [
    "For the purpose of testing, you can compare your output with result_df that can be found from the `Amazon-Google-Sample` folder."
   ]
  },
  {
   "cell_type": "markdown",
   "metadata": {},
   "source": [
    "### Task D. Evaluating an ER result"
   ]
  },
  {
   "cell_type": "markdown",
   "metadata": {},
   "source": [
    "How should we evaluate an ER result? Before answering this question, let's first recall what the ER result looks like. The goal of ER is to identify all matching record pairs. Thus, the ER result should be a set of identified matching pairs, denoted by R. One thing that we want to know is that what percentage of the pairs in $R$ that are truly matching? This is what Precision can tell us. Let $T$ denote the truly matching pairs in $R$. Precision is defined as:\n",
    "$$Precision = \\frac{|T|}{|R|}$$\n",
    "\n",
    "In addition to Precision, another thing that we care about is that what percentage of truly matching pairs that are identified. This is what Recall can tell us. Let $A$ denote the truly matching pairs in the entire dataset. Recall is defined as: \n",
    "\n",
    "$$Recall = \\frac{|T|}{|A|}$$\n",
    "\n",
    "There is an interesting trade-off between Precision and Recall. As more and more pairs that are identified as matching, Recall increases while Precision potentially decreases. For the extreme case, if we return all the pairs as matching pairs, we will get a perfect Recall (i.e., Recall = 100%) but precision will be the worst. Thus, to balance Precision and Recall, people often use FMeasure to evaluate an ER result:\n",
    "\n",
    "$$FMeasure = \\frac{2*Precision*Recall}{Precision+Recall}$$"
   ]
  },
  {
   "cell_type": "markdown",
   "metadata": {},
   "source": [
    "In Task D, you will be given an ER result as well as the ground truth that tells you what pairs are truly matching. Your job is to calculate Precision, Recall and FMeasure for the result. \n",
    "```python\n",
    "def evaluate(self, result, ground_truth):\n",
    "    \"\"\" \n",
    "        Input: $result is a list of matching pairs identified by the ER algorithm\n",
    "               $ground_truth is a list of matching pairs labeld by humans\n",
    "\n",
    "        Output: Compute precision, recall, and fmeasure of $result based on $ground_truth, and\n",
    "                return the evaluation result as a triple: (precision, recall, fmeasure)\n",
    "\n",
    "    \"\"\"\n",
    "```\n"
   ]
  },
  {
   "cell_type": "code",
   "execution_count": 100,
   "metadata": {},
   "outputs": [],
   "source": [
    "r_lst = result_df[['id1', 'id2']].values.tolist()\n",
    "r_lst = [x[0]+'-'+x[1] for x in r_lst]\n",
    "# r_lst\n",
    "\n",
    "a_lst = pd.read_csv(\"Amazon_Google_perfectMapping_sample.csv\").values.tolist()\n",
    "a_lst = [x[0]+'-'+x[1] for x in a_lst]\n",
    "# a_lst\n",
    "\n",
    "t_lst = set(r_lst) & set(a_lst)\n",
    "# t_lst"
   ]
  },
  {
   "cell_type": "code",
   "execution_count": 37,
   "metadata": {},
   "outputs": [
    {
     "data": {
      "text/plain": [
       "[1, 2, 3]"
      ]
     },
     "execution_count": 37,
     "metadata": {},
     "output_type": "execute_result"
    }
   ],
   "source": [
    "result = [(1, 'apple'), (2, 'banana'), (3, 'orange')]\n",
    "result_first_elements = list(map(lambda x: x[0], result))\n",
    "result_first_elements"
   ]
  },
  {
   "cell_type": "markdown",
   "metadata": {},
   "source": [
    "(precision, recall, fmeasure) = (1.0, 0.375, 0.5454545454545454)"
   ]
  },
  {
   "cell_type": "code",
   "execution_count": 101,
   "metadata": {},
   "outputs": [
    {
     "name": "stdout",
     "output_type": "stream",
     "text": [
      "1.0 0.375 0.5454545454545454\n"
     ]
    }
   ],
   "source": [
    "precision = len(t_lst) / len(r_lst)\n",
    "\n",
    "recall = len(t_lst) / len(a_lst)\n",
    "\n",
    "fmeasure = 2 * precision * recall / (precision + recall)\n",
    "\n",
    "print(precision, recall, fmeasure)"
   ]
  },
  {
   "cell_type": "markdown",
   "metadata": {},
   "source": [
    "## Submission"
   ]
  },
  {
   "cell_type": "markdown",
   "metadata": {},
   "source": [
    "Implement `preprocess_df`, `filtering`, `verification`, and `evaluate` functions in `similarity_join.py`. Submit your code file (`similarity_join.py`)  to the CourSys activity Assignment 2."
   ]
  }
 ],
 "metadata": {
  "kernelspec": {
   "display_name": "Python 3 (ipykernel)",
   "language": "python",
   "name": "python3"
  },
  "language_info": {
   "codemirror_mode": {
    "name": "ipython",
    "version": 3
   },
   "file_extension": ".py",
   "mimetype": "text/x-python",
   "name": "python",
   "nbconvert_exporter": "python",
   "pygments_lexer": "ipython3",
   "version": "3.9.7"
  },
  "vscode": {
   "interpreter": {
    "hash": "1a1af0ee75eeea9e2e1ee996c87e7a2b11a0bebd85af04bb136d915cefc0abce"
   }
  }
 },
 "nbformat": 4,
 "nbformat_minor": 4
}
